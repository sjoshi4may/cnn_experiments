{
 "cells": [
  {
   "cell_type": "code",
   "execution_count": 1,
   "id": "b9a5a2fb",
   "metadata": {},
   "outputs": [],
   "source": [
    "import pandas as pd\n",
    "from tensorflow import keras\n",
    "import numpy as np\n",
    "from tensorflow.keras import layers\n",
    "import matplotlib.pyplot as plt\n",
    "%matplotlib inline"
   ]
  },
  {
   "cell_type": "code",
   "execution_count": 2,
   "id": "7d47e50f",
   "metadata": {},
   "outputs": [],
   "source": [
    "import tensorflow as tf\n",
    "from tensorflow import keras\n",
    "\n",
    "# The dimensions of our input image\n",
    "img_width = 28\n",
    "img_height = 28"
   ]
  },
  {
   "cell_type": "code",
   "execution_count": 3,
   "id": "3a310b62",
   "metadata": {},
   "outputs": [],
   "source": [
    "(x_train, y_train), (x_test, y_test) = keras.datasets.mnist.load_data()"
   ]
  },
  {
   "cell_type": "code",
   "execution_count": 4,
   "id": "3ed03c7b",
   "metadata": {},
   "outputs": [
    {
     "data": {
      "text/plain": [
       "(60000, 28, 28)"
      ]
     },
     "execution_count": 4,
     "metadata": {},
     "output_type": "execute_result"
    }
   ],
   "source": [
    "x_train.shape"
   ]
  },
  {
   "cell_type": "code",
   "execution_count": 57,
   "id": "5b5e6144",
   "metadata": {},
   "outputs": [
    {
     "data": {
      "image/png": "[encoded data removed]",
      "text/plain": [
       "<Figure size 432x288 with 3 Axes>"
      ]
     },
     "metadata": {
      "needs_background": "light"
     },
     "output_type": "display_data"
    }
   ],
   "source": [
    "plt.subplot(1,3,1)\n",
    "plt.imshow(x_train[1]);\n",
    "plt.subplot(1,3,2)\n",
    "plt.imshow(x_train[10]);\n",
    "plt.subplot(1,3,3)\n",
    "plt.imshow(x_train[2354]);\n"
   ]
  },
  {
   "cell_type": "code",
   "execution_count": 43,
   "id": "bb19e304",
   "metadata": {},
   "outputs": [
    {
     "ename": "ValueError",
     "evalue": "x and y can be no greater than 2D, but have shapes (28,) and (28, 28, 1)",
     "output_type": "error",
     "traceback": [
      "\u001b[0;31m---------------------------------------------------------------------------\u001b[0m",
      "\u001b[0;31mValueError\u001b[0m                                Traceback (most recent call last)",
      "\u001b[0;32m<ipython-input-43-6a2140053ac7>\u001b[0m in \u001b[0;36m<module>\u001b[0;34m\u001b[0m\n\u001b[0;32m----> 1\u001b[0;31m \u001b[0mplt\u001b[0m\u001b[0;34m.\u001b[0m\u001b[0mplot\u001b[0m\u001b[0;34m(\u001b[0m\u001b[0mx_train\u001b[0m\u001b[0;34m[\u001b[0m\u001b[0;36m0\u001b[0m\u001b[0;34m]\u001b[0m\u001b[0;34m)\u001b[0m\u001b[0;34m\u001b[0m\u001b[0;34m\u001b[0m\u001b[0m\n\u001b[0m",
      "\u001b[0;32m/Library/Frameworks/Python.framework/Versions/3.7/lib/python3.7/site-packages/matplotlib/pyplot.py\u001b[0m in \u001b[0;36mplot\u001b[0;34m(scalex, scaley, data, *args, **kwargs)\u001b[0m\n\u001b[1;32m   3019\u001b[0m     return gca().plot(\n\u001b[1;32m   3020\u001b[0m         \u001b[0;34m*\u001b[0m\u001b[0margs\u001b[0m\u001b[0;34m,\u001b[0m \u001b[0mscalex\u001b[0m\u001b[0;34m=\u001b[0m\u001b[0mscalex\u001b[0m\u001b[0;34m,\u001b[0m \u001b[0mscaley\u001b[0m\u001b[0;34m=\u001b[0m\u001b[0mscaley\u001b[0m\u001b[0;34m,\u001b[0m\u001b[0;34m\u001b[0m\u001b[0;34m\u001b[0m\u001b[0m\n\u001b[0;32m-> 3021\u001b[0;31m         **({\"data\": data} if data is not None else {}), **kwargs)\n\u001b[0m\u001b[1;32m   3022\u001b[0m \u001b[0;34m\u001b[0m\u001b[0m\n\u001b[1;32m   3023\u001b[0m \u001b[0;34m\u001b[0m\u001b[0m\n",
      "\u001b[0;32m/Library/Frameworks/Python.framework/Versions/3.7/lib/python3.7/site-packages/matplotlib/axes/_axes.py\u001b[0m in \u001b[0;36mplot\u001b[0;34m(self, scalex, scaley, data, *args, **kwargs)\u001b[0m\n\u001b[1;32m   1603\u001b[0m         \"\"\"\n\u001b[1;32m   1604\u001b[0m         \u001b[0mkwargs\u001b[0m \u001b[0;34m=\u001b[0m \u001b[0mcbook\u001b[0m\u001b[0;34m.\u001b[0m\u001b[0mnormalize_kwargs\u001b[0m\u001b[0;34m(\u001b[0m\u001b[0mkwargs\u001b[0m\u001b[0;34m,\u001b[0m \u001b[0mmlines\u001b[0m\u001b[0;34m.\u001b[0m\u001b[0mLine2D\u001b[0m\u001b[0;34m)\u001b[0m\u001b[0;34m\u001b[0m\u001b[0;34m\u001b[0m\u001b[0m\n\u001b[0;32m-> 1605\u001b[0;31m         \u001b[0mlines\u001b[0m \u001b[0;34m=\u001b[0m \u001b[0;34m[\u001b[0m\u001b[0;34m*\u001b[0m\u001b[0mself\u001b[0m\u001b[0;34m.\u001b[0m\u001b[0m_get_lines\u001b[0m\u001b[0;34m(\u001b[0m\u001b[0;34m*\u001b[0m\u001b[0margs\u001b[0m\u001b[0;34m,\u001b[0m \u001b[0mdata\u001b[0m\u001b[0;34m=\u001b[0m\u001b[0mdata\u001b[0m\u001b[0;34m,\u001b[0m \u001b[0;34m**\u001b[0m\u001b[0mkwargs\u001b[0m\u001b[0;34m)\u001b[0m\u001b[0;34m]\u001b[0m\u001b[0;34m\u001b[0m\u001b[0;34m\u001b[0m\u001b[0m\n\u001b[0m\u001b[1;32m   1606\u001b[0m         \u001b[0;32mfor\u001b[0m \u001b[0mline\u001b[0m \u001b[0;32min\u001b[0m \u001b[0mlines\u001b[0m\u001b[0;34m:\u001b[0m\u001b[0;34m\u001b[0m\u001b[0;34m\u001b[0m\u001b[0m\n\u001b[1;32m   1607\u001b[0m             \u001b[0mself\u001b[0m\u001b[0;34m.\u001b[0m\u001b[0madd_line\u001b[0m\u001b[0;34m(\u001b[0m\u001b[0mline\u001b[0m\u001b[0;34m)\u001b[0m\u001b[0;34m\u001b[0m\u001b[0;34m\u001b[0m\u001b[0m\n",
      "\u001b[0;32m/Library/Frameworks/Python.framework/Versions/3.7/lib/python3.7/site-packages/matplotlib/axes/_base.py\u001b[0m in \u001b[0;36m__call__\u001b[0;34m(self, data, *args, **kwargs)\u001b[0m\n\u001b[1;32m    313\u001b[0m                 \u001b[0mthis\u001b[0m \u001b[0;34m+=\u001b[0m \u001b[0margs\u001b[0m\u001b[0;34m[\u001b[0m\u001b[0;36m0\u001b[0m\u001b[0;34m]\u001b[0m\u001b[0;34m,\u001b[0m\u001b[0;34m\u001b[0m\u001b[0;34m\u001b[0m\u001b[0m\n\u001b[1;32m    314\u001b[0m                 \u001b[0margs\u001b[0m \u001b[0;34m=\u001b[0m \u001b[0margs\u001b[0m\u001b[0;34m[\u001b[0m\u001b[0;36m1\u001b[0m\u001b[0;34m:\u001b[0m\u001b[0;34m]\u001b[0m\u001b[0;34m\u001b[0m\u001b[0;34m\u001b[0m\u001b[0m\n\u001b[0;32m--> 315\u001b[0;31m             \u001b[0;32myield\u001b[0m \u001b[0;32mfrom\u001b[0m \u001b[0mself\u001b[0m\u001b[0;34m.\u001b[0m\u001b[0m_plot_args\u001b[0m\u001b[0;34m(\u001b[0m\u001b[0mthis\u001b[0m\u001b[0;34m,\u001b[0m \u001b[0mkwargs\u001b[0m\u001b[0;34m)\u001b[0m\u001b[0;34m\u001b[0m\u001b[0;34m\u001b[0m\u001b[0m\n\u001b[0m\u001b[1;32m    316\u001b[0m \u001b[0;34m\u001b[0m\u001b[0m\n\u001b[1;32m    317\u001b[0m     \u001b[0;32mdef\u001b[0m \u001b[0mget_next_color\u001b[0m\u001b[0;34m(\u001b[0m\u001b[0mself\u001b[0m\u001b[0;34m)\u001b[0m\u001b[0;34m:\u001b[0m\u001b[0;34m\u001b[0m\u001b[0;34m\u001b[0m\u001b[0m\n",
      "\u001b[0;32m/Library/Frameworks/Python.framework/Versions/3.7/lib/python3.7/site-packages/matplotlib/axes/_base.py\u001b[0m in \u001b[0;36m_plot_args\u001b[0;34m(self, tup, kwargs, return_kwargs)\u001b[0m\n\u001b[1;32m    502\u001b[0m                              f\"have shapes {x.shape} and {y.shape}\")\n\u001b[1;32m    503\u001b[0m         \u001b[0;32mif\u001b[0m \u001b[0mx\u001b[0m\u001b[0;34m.\u001b[0m\u001b[0mndim\u001b[0m \u001b[0;34m>\u001b[0m \u001b[0;36m2\u001b[0m \u001b[0;32mor\u001b[0m \u001b[0my\u001b[0m\u001b[0;34m.\u001b[0m\u001b[0mndim\u001b[0m \u001b[0;34m>\u001b[0m \u001b[0;36m2\u001b[0m\u001b[0;34m:\u001b[0m\u001b[0;34m\u001b[0m\u001b[0;34m\u001b[0m\u001b[0m\n\u001b[0;32m--> 504\u001b[0;31m             raise ValueError(f\"x and y can be no greater than 2D, but have \"\n\u001b[0m\u001b[1;32m    505\u001b[0m                              f\"shapes {x.shape} and {y.shape}\")\n\u001b[1;32m    506\u001b[0m         \u001b[0;32mif\u001b[0m \u001b[0mx\u001b[0m\u001b[0;34m.\u001b[0m\u001b[0mndim\u001b[0m \u001b[0;34m==\u001b[0m \u001b[0;36m1\u001b[0m\u001b[0;34m:\u001b[0m\u001b[0;34m\u001b[0m\u001b[0;34m\u001b[0m\u001b[0m\n",
      "\u001b[0;31mValueError\u001b[0m: x and y can be no greater than 2D, but have shapes (28,) and (28, 28, 1)"
     ]
    },
    {
     "data": {
      "image/png": "[encoded data removed]",
      "text/plain": [
       "<Figure size 432x288 with 1 Axes>"
      ]
     },
     "metadata": {
      "needs_background": "light"
     },
     "output_type": "display_data"
    }
   ],
   "source": [
    "plt.plot(x_train[0])"
   ]
  },
  {
   "cell_type": "code",
   "execution_count": 7,
   "id": "12291b04",
   "metadata": {},
   "outputs": [],
   "source": [
    "num_classes = len(np.unique(y_train))\n",
    "inp = (28,28,1)"
   ]
  },
  {
   "cell_type": "code",
   "execution_count": 8,
   "id": "cbdd8db7",
   "metadata": {},
   "outputs": [],
   "source": [
    "x_train = np.round(x_train.astype(\"float32\")/255.)\n",
    "x_test = np.round(x_test.astype(\"float32\")/255.)\n",
    "\n",
    "x_train = np.expand_dims(x_train,-1)\n",
    "x_test = np.expand_dims(x_test,-1)\n",
    "\n",
    "y_train = keras.utils.to_categorical(y_train,num_classes)\n",
    "y_test = keras.utils.to_categorical(y_test,num_classes)"
   ]
  },
  {
   "cell_type": "code",
   "execution_count": 14,
   "id": "0fa5195f",
   "metadata": {},
   "outputs": [],
   "source": [
    "batch_size = 32\n",
    "epochs = 10"
   ]
  },
  {
   "cell_type": "markdown",
   "id": "3f704f41",
   "metadata": {},
   "source": [
    "## Linear NN"
   ]
  },
  {
   "cell_type": "code",
   "execution_count": 34,
   "id": "51964a0b",
   "metadata": {},
   "outputs": [],
   "source": [
    "model = keras.Sequential([\n",
    "                        layers.Flatten(),\n",
    "                          layers.Dense(10,'softmax')])\n",
    "for layer in model.layers:\n",
    "    layer.trainable = True\n",
    "model.layers[-1].trainable = True\n",
    "\n",
    "model.compile(loss='categorical_crossentropy', optimizer=\"adam\", metrics=[\"accuracy\"])"
   ]
  },
  {
   "cell_type": "code",
   "execution_count": 35,
   "id": "983f3528",
   "metadata": {
    "scrolled": true
   },
   "outputs": [
    {
     "name": "stdout",
     "output_type": "stream",
     "text": [
      "Epoch 1/10\n",
      "1688/1688 [==============================] - 2s 837us/step - loss: 0.5034 - accuracy: 0.8664 - val_loss: 0.2805 - val_accuracy: 0.9233\n",
      "Epoch 2/10\n",
      "1688/1688 [==============================] - 1s 821us/step - loss: 0.3258 - accuracy: 0.9090 - val_loss: 0.2579 - val_accuracy: 0.9270\n",
      "Epoch 3/10\n",
      "1688/1688 [==============================] - 1s 815us/step - loss: 0.3029 - accuracy: 0.9149 - val_loss: 0.2491 - val_accuracy: 0.9320\n",
      "Epoch 4/10\n",
      "1688/1688 [==============================] - 1s 822us/step - loss: 0.2902 - accuracy: 0.9176 - val_loss: 0.2452 - val_accuracy: 0.9330\n",
      "Epoch 5/10\n",
      "1688/1688 [==============================] - 1s 819us/step - loss: 0.2828 - accuracy: 0.9199 - val_loss: 0.2434 - val_accuracy: 0.9328\n",
      "Epoch 6/10\n",
      "1688/1688 [==============================] - 1s 821us/step - loss: 0.2767 - accuracy: 0.9220 - val_loss: 0.2461 - val_accuracy: 0.9330\n",
      "Epoch 7/10\n",
      "1688/1688 [==============================] - 1s 824us/step - loss: 0.2723 - accuracy: 0.9233 - val_loss: 0.2438 - val_accuracy: 0.9332\n",
      "Epoch 8/10\n",
      "1688/1688 [==============================] - 1s 849us/step - loss: 0.2691 - accuracy: 0.9243 - val_loss: 0.2403 - val_accuracy: 0.9352\n",
      "Epoch 9/10\n",
      "1688/1688 [==============================] - 1s 859us/step - loss: 0.2663 - accuracy: 0.9251 - val_loss: 0.2414 - val_accuracy: 0.9320\n",
      "Epoch 10/10\n",
      "1688/1688 [==============================] - 1s 858us/step - loss: 0.2635 - accuracy: 0.9256 - val_loss: 0.2434 - val_accuracy: 0.9325\n"
     ]
    },
    {
     "data": {
      "text/plain": [
       "<keras.callbacks.History at 0x7fe1eda0de90>"
      ]
     },
     "execution_count": 35,
     "metadata": {},
     "output_type": "execute_result"
    }
   ],
   "source": [
    "model.fit(x_train, y_train, batch_size=batch_size, epochs=epochs, validation_split=0.1)"
   ]
  },
  {
   "cell_type": "code",
   "execution_count": 36,
   "id": "158f4c2b",
   "metadata": {},
   "outputs": [
    {
     "name": "stdout",
     "output_type": "stream",
     "text": [
      "79/79 [==============================] - 0s 729us/step - loss: 0.2840 - accuracy: 0.9206\n"
     ]
    },
    {
     "data": {
      "text/plain": [
       "[0.2839936912059784, 0.9205999970436096]"
      ]
     },
     "execution_count": 36,
     "metadata": {},
     "output_type": "execute_result"
    }
   ],
   "source": [
    "model.evaluate(x_test, y_test, batch_size=128)"
   ]
  },
  {
   "cell_type": "code",
   "execution_count": 37,
   "id": "aa96d788",
   "metadata": {},
   "outputs": [
    {
     "name": "stdout",
     "output_type": "stream",
     "text": [
      "Model: \"sequential_6\"\n",
      "_________________________________________________________________\n",
      " Layer (type)                Output Shape              Param #   \n",
      "=================================================================\n",
      " flatten_6 (Flatten)         (None, 784)               0         \n",
      "                                                                 \n",
      " dense_7 (Dense)             (None, 10)                7850      \n",
      "                                                                 \n",
      "=================================================================\n",
      "Total params: 7,850\n",
      "Trainable params: 7,850\n",
      "Non-trainable params: 0\n",
      "_________________________________________________________________\n"
     ]
    }
   ],
   "source": [
    "model.summary()"
   ]
  },
  {
   "cell_type": "markdown",
   "id": "135ab20f",
   "metadata": {},
   "source": [
    "## Frozen CNN + Linear NN"
   ]
  },
  {
   "cell_type": "code",
   "execution_count": 40,
   "id": "06c88e00",
   "metadata": {},
   "outputs": [],
   "source": [
    "model_2 = keras.Sequential([layers.Conv2D(10,kernel_size = (3,3),activation=\"relu\"),\n",
    "                           layers.Flatten(),\n",
    "                            layers.Dense(10,\"softmax\")\n",
    "                           ])\n",
    "for layer in model_2.layers:\n",
    "    layer.trainable = False # fixing all the layers to be not-trainable\n",
    "model_2.layers[-1].trainable = True # making the final dense layer to be trainable"
   ]
  },
  {
   "cell_type": "code",
   "execution_count": 41,
   "id": "41d7d759",
   "metadata": {
    "scrolled": true
   },
   "outputs": [
    {
     "name": "stdout",
     "output_type": "stream",
     "text": [
      "Epoch 1/10\n",
      "1688/1688 [==============================] - 5s 3ms/step - loss: 0.2411 - accuracy: 0.9311 - val_loss: 0.1109 - val_accuracy: 0.9722\n",
      "Epoch 2/10\n",
      "1688/1688 [==============================] - 5s 3ms/step - loss: 0.0988 - accuracy: 0.9710 - val_loss: 0.0876 - val_accuracy: 0.9763\n",
      "Epoch 3/10\n",
      "1688/1688 [==============================] - 6s 3ms/step - loss: 0.0730 - accuracy: 0.9779 - val_loss: 0.0771 - val_accuracy: 0.9787\n",
      "Epoch 4/10\n",
      "1688/1688 [==============================] - 6s 3ms/step - loss: 0.0570 - accuracy: 0.9826 - val_loss: 0.0811 - val_accuracy: 0.9785\n",
      "Epoch 5/10\n",
      "1688/1688 [==============================] - 6s 3ms/step - loss: 0.0455 - accuracy: 0.9856 - val_loss: 0.0817 - val_accuracy: 0.9782\n",
      "Epoch 6/10\n",
      "1688/1688 [==============================] - 6s 3ms/step - loss: 0.0362 - accuracy: 0.9885 - val_loss: 0.0783 - val_accuracy: 0.9795\n",
      "Epoch 7/10\n",
      "1688/1688 [==============================] - 5s 3ms/step - loss: 0.0291 - accuracy: 0.9911 - val_loss: 0.0807 - val_accuracy: 0.9778\n",
      "Epoch 8/10\n",
      "1688/1688 [==============================] - 6s 3ms/step - loss: 0.0232 - accuracy: 0.9930 - val_loss: 0.0877 - val_accuracy: 0.9777\n",
      "Epoch 9/10\n",
      "1688/1688 [==============================] - 6s 3ms/step - loss: 0.0180 - accuracy: 0.9948 - val_loss: 0.0901 - val_accuracy: 0.9787\n",
      "Epoch 10/10\n",
      "1688/1688 [==============================] - 6s 3ms/step - loss: 0.0139 - accuracy: 0.9963 - val_loss: 0.0938 - val_accuracy: 0.9787\n"
     ]
    },
    {
     "data": {
      "text/plain": [
       "<keras.callbacks.History at 0x7fe1f164a290>"
      ]
     },
     "execution_count": 41,
     "metadata": {},
     "output_type": "execute_result"
    }
   ],
   "source": [
    "model_2.compile(loss='categorical_crossentropy', optimizer=\"adam\", metrics=[\"accuracy\"])\n",
    "\n",
    "model_2.fit(x_train, y_train, batch_size=batch_size, epochs=epochs, validation_split=0.1)"
   ]
  },
  {
   "cell_type": "code",
   "execution_count": 42,
   "id": "504943e6",
   "metadata": {},
   "outputs": [
    {
     "name": "stdout",
     "output_type": "stream",
     "text": [
      "79/79 [==============================] - 0s 2ms/step - loss: 0.1005 - accuracy: 0.9749\n"
     ]
    },
    {
     "data": {
      "text/plain": [
       "[0.10050156712532043, 0.9749000072479248]"
      ]
     },
     "execution_count": 42,
     "metadata": {},
     "output_type": "execute_result"
    }
   ],
   "source": [
    "model_2.evaluate(x_test, y_test, batch_size=128)"
   ]
  },
  {
   "cell_type": "code",
   "execution_count": 49,
   "id": "293302df",
   "metadata": {},
   "outputs": [
    {
     "name": "stdout",
     "output_type": "stream",
     "text": [
      "Model: \"sequential_9\"\n",
      "_________________________________________________________________\n",
      " Layer (type)                Output Shape              Param #   \n",
      "=================================================================\n",
      " conv2d_8 (Conv2D)           (None, 16, 16, 10)        1700      \n",
      "                                                                 \n",
      " flatten_9 (Flatten)         (None, 2560)              0         \n",
      "                                                                 \n",
      " dense_9 (Dense)             (None, 10)                25610     \n",
      "                                                                 \n",
      "=================================================================\n",
      "Total params: 27,310\n",
      "Trainable params: 25,610\n",
      "Non-trainable params: 1,700\n",
      "_________________________________________________________________\n"
     ]
    }
   ],
   "source": [
    "model_2.summary()"
   ]
  },
  {
   "cell_type": "markdown",
   "id": "628aa2d3",
   "metadata": {},
   "source": [
    "## Frozen Dense + Linear NN"
   ]
  },
  {
   "cell_type": "code",
   "execution_count": 53,
   "id": "9b5f7d4c",
   "metadata": {},
   "outputs": [],
   "source": [
    "model_3 = keras.Sequential([layers.Flatten(),\n",
    "                            layers.Dense(3000,activation=\"tanh\"),\n",
    "                            layers.Dense(10,\"softmax\")\n",
    "                           ])\n",
    "for layer in model_3.layers:\n",
    "    layer.trainable = False\n",
    "model_3.layers[-1].trainable = True"
   ]
  },
  {
   "cell_type": "code",
   "execution_count": 54,
   "id": "dc9dc153",
   "metadata": {
    "scrolled": true
   },
   "outputs": [
    {
     "name": "stdout",
     "output_type": "stream",
     "text": [
      "Epoch 1/20\n",
      "422/422 [==============================] - 2s 4ms/step - loss: 0.4753 - accuracy: 0.8712 - val_loss: 0.2907 - val_accuracy: 0.9198\n",
      "Epoch 2/20\n",
      "422/422 [==============================] - 1s 3ms/step - loss: 0.3373 - accuracy: 0.9046 - val_loss: 0.2705 - val_accuracy: 0.9250\n",
      "Epoch 3/20\n",
      "422/422 [==============================] - 1s 3ms/step - loss: 0.3174 - accuracy: 0.9096 - val_loss: 0.2670 - val_accuracy: 0.9258\n",
      "Epoch 4/20\n",
      "422/422 [==============================] - 1s 3ms/step - loss: 0.3078 - accuracy: 0.9128 - val_loss: 0.2589 - val_accuracy: 0.9283\n",
      "Epoch 5/20\n",
      "422/422 [==============================] - 1s 3ms/step - loss: 0.3005 - accuracy: 0.9150 - val_loss: 0.2660 - val_accuracy: 0.9268\n",
      "Epoch 6/20\n",
      "422/422 [==============================] - 1s 4ms/step - loss: 0.2953 - accuracy: 0.9156 - val_loss: 0.2587 - val_accuracy: 0.9267\n",
      "Epoch 7/20\n",
      "422/422 [==============================] - 2s 4ms/step - loss: 0.2904 - accuracy: 0.9178 - val_loss: 0.2589 - val_accuracy: 0.9282\n",
      "Epoch 8/20\n",
      "422/422 [==============================] - 1s 3ms/step - loss: 0.2873 - accuracy: 0.9182 - val_loss: 0.2557 - val_accuracy: 0.9285\n",
      "Epoch 9/20\n",
      "422/422 [==============================] - 1s 3ms/step - loss: 0.2844 - accuracy: 0.9201 - val_loss: 0.2570 - val_accuracy: 0.9297\n",
      "Epoch 10/20\n",
      "422/422 [==============================] - 1s 3ms/step - loss: 0.2807 - accuracy: 0.9207 - val_loss: 0.2564 - val_accuracy: 0.9268\n",
      "Epoch 11/20\n",
      "422/422 [==============================] - 1s 4ms/step - loss: 0.2790 - accuracy: 0.9200 - val_loss: 0.2551 - val_accuracy: 0.9292\n",
      "Epoch 12/20\n",
      "422/422 [==============================] - 1s 4ms/step - loss: 0.2769 - accuracy: 0.9216 - val_loss: 0.2573 - val_accuracy: 0.9287\n",
      "Epoch 13/20\n",
      "422/422 [==============================] - 2s 4ms/step - loss: 0.2760 - accuracy: 0.9205 - val_loss: 0.2565 - val_accuracy: 0.9283\n",
      "Epoch 14/20\n",
      "422/422 [==============================] - 2s 4ms/step - loss: 0.2736 - accuracy: 0.9215 - val_loss: 0.2542 - val_accuracy: 0.9295\n",
      "Epoch 15/20\n",
      "422/422 [==============================] - 2s 4ms/step - loss: 0.2717 - accuracy: 0.9227 - val_loss: 0.2509 - val_accuracy: 0.9303\n",
      "Epoch 16/20\n",
      "422/422 [==============================] - 1s 3ms/step - loss: 0.2706 - accuracy: 0.9233 - val_loss: 0.2519 - val_accuracy: 0.9303\n",
      "Epoch 17/20\n",
      "422/422 [==============================] - 1s 3ms/step - loss: 0.2685 - accuracy: 0.9241 - val_loss: 0.2552 - val_accuracy: 0.9290\n",
      "Epoch 18/20\n",
      "422/422 [==============================] - 1s 3ms/step - loss: 0.2680 - accuracy: 0.9232 - val_loss: 0.2517 - val_accuracy: 0.9297\n",
      "Epoch 19/20\n",
      "422/422 [==============================] - 1s 3ms/step - loss: 0.2669 - accuracy: 0.9243 - val_loss: 0.2507 - val_accuracy: 0.9313\n",
      "Epoch 20/20\n",
      "422/422 [==============================] - 1s 3ms/step - loss: 0.2652 - accuracy: 0.9244 - val_loss: 0.2517 - val_accuracy: 0.9307\n"
     ]
    },
    {
     "data": {
      "text/plain": [
       "<keras.callbacks.History at 0x7fe7a8cb4d90>"
      ]
     },
     "execution_count": 54,
     "metadata": {},
     "output_type": "execute_result"
    }
   ],
   "source": [
    "model_3.compile(loss='categorical_crossentropy', optimizer=\"adam\", metrics=[\"accuracy\"])\n",
    "\n",
    "model_3.fit(x_train, y_train, batch_size=batch_size, epochs=epochs, validation_split=0.1)"
   ]
  },
  {
   "cell_type": "code",
   "execution_count": 55,
   "id": "51d2d63f",
   "metadata": {},
   "outputs": [
    {
     "name": "stdout",
     "output_type": "stream",
     "text": [
      "Model: \"sequential_11\"\n",
      "_________________________________________________________________\n",
      " Layer (type)                Output Shape              Param #   \n",
      "=================================================================\n",
      " flatten_11 (Flatten)        (None, 784)               0         \n",
      "                                                                 \n",
      " dense_12 (Dense)            (None, 3000)              2355000   \n",
      "                                                                 \n",
      " dense_13 (Dense)            (None, 10)                30010     \n",
      "                                                                 \n",
      "=================================================================\n",
      "Total params: 2,385,010\n",
      "Trainable params: 30,010\n",
      "Non-trainable params: 2,355,000\n",
      "_________________________________________________________________\n"
     ]
    }
   ],
   "source": [
    "model_3.summary()"
   ]
  },
  {
   "cell_type": "markdown",
   "id": "77c9f848",
   "metadata": {},
   "source": [
    "## CIFAR 10"
   ]
  },
  {
   "cell_type": "code",
   "execution_count": 42,
   "id": "9c8d91a1",
   "metadata": {},
   "outputs": [],
   "source": [
    "(x_train, y_train), (x_test, y_test) = keras.datasets.cifar10.load_data()"
   ]
  },
  {
   "cell_type": "code",
   "execution_count": 43,
   "id": "e01ef5ff",
   "metadata": {},
   "outputs": [],
   "source": [
    "num_classes = len(np.unique(y_train))\n",
    "inp = (32,32,3)\n",
    "\n",
    "x_train = np.round(x_train.astype(\"float32\")/255.)\n",
    "x_test = np.round(x_test.astype(\"float32\")/255.)\n",
    "\n",
    "x_train = np.expand_dims(x_train,-1)\n",
    "x_test = np.expand_dims(x_test,-1)\n",
    "\n",
    "y_train = keras.utils.to_categorical(y_train,num_classes)\n",
    "y_test = keras.utils.to_categorical(y_test,num_classes)"
   ]
  },
  {
   "cell_type": "markdown",
   "id": "60af0f74",
   "metadata": {},
   "source": [
    "### Linear NN"
   ]
  },
  {
   "cell_type": "code",
   "execution_count": 44,
   "id": "c37cc2cd",
   "metadata": {},
   "outputs": [],
   "source": [
    "model = keras.Sequential([layers.Flatten(),\n",
    "                          layers.Dense(10,'softmax')])\n",
    "for layer in model.layers:\n",
    "    layer.trainable = False\n",
    "model.layers[-1].trainable = True"
   ]
  },
  {
   "cell_type": "code",
   "execution_count": 45,
   "id": "c39c524c",
   "metadata": {
    "scrolled": true
   },
   "outputs": [
    {
     "name": "stdout",
     "output_type": "stream",
     "text": [
      "Epoch 1/20\n",
      "352/352 [==============================] - 1s 2ms/step - loss: 1.9991 - accuracy: 0.3027 - val_loss: 1.9430 - val_accuracy: 0.3294\n",
      "Epoch 2/20\n",
      "352/352 [==============================] - 0s 1ms/step - loss: 1.8935 - accuracy: 0.3428 - val_loss: 1.9078 - val_accuracy: 0.3392\n",
      "Epoch 3/20\n",
      "352/352 [==============================] - 0s 1ms/step - loss: 1.8492 - accuracy: 0.3631 - val_loss: 1.8938 - val_accuracy: 0.3420\n",
      "Epoch 4/20\n",
      "352/352 [==============================] - 0s 1ms/step - loss: 1.8176 - accuracy: 0.3715 - val_loss: 1.9746 - val_accuracy: 0.3208\n",
      "Epoch 5/20\n",
      "352/352 [==============================] - 0s 1ms/step - loss: 1.8032 - accuracy: 0.3794 - val_loss: 1.9628 - val_accuracy: 0.3332\n",
      "Epoch 6/20\n",
      "352/352 [==============================] - 1s 2ms/step - loss: 1.7813 - accuracy: 0.3872 - val_loss: 1.9424 - val_accuracy: 0.3332\n",
      "Epoch 7/20\n",
      "352/352 [==============================] - 0s 1ms/step - loss: 1.7665 - accuracy: 0.3916 - val_loss: 1.9353 - val_accuracy: 0.3262\n",
      "Epoch 8/20\n",
      "352/352 [==============================] - 1s 1ms/step - loss: 1.7475 - accuracy: 0.4014 - val_loss: 1.9258 - val_accuracy: 0.3418\n",
      "Epoch 9/20\n",
      "352/352 [==============================] - 0s 1ms/step - loss: 1.7414 - accuracy: 0.4004 - val_loss: 2.0167 - val_accuracy: 0.3126\n",
      "Epoch 10/20\n",
      "352/352 [==============================] - 0s 1ms/step - loss: 1.7268 - accuracy: 0.4066 - val_loss: 1.9522 - val_accuracy: 0.3280\n",
      "Epoch 11/20\n",
      "352/352 [==============================] - 0s 1ms/step - loss: 1.7166 - accuracy: 0.4093 - val_loss: 1.9364 - val_accuracy: 0.3412\n",
      "Epoch 12/20\n",
      "352/352 [==============================] - 1s 1ms/step - loss: 1.7067 - accuracy: 0.4122 - val_loss: 1.9408 - val_accuracy: 0.3328\n",
      "Epoch 13/20\n",
      "352/352 [==============================] - 1s 1ms/step - loss: 1.7005 - accuracy: 0.4186 - val_loss: 1.9868 - val_accuracy: 0.3162\n",
      "Epoch 14/20\n",
      "352/352 [==============================] - 1s 1ms/step - loss: 1.6878 - accuracy: 0.4230 - val_loss: 2.0239 - val_accuracy: 0.3054\n",
      "Epoch 15/20\n",
      "352/352 [==============================] - 1s 1ms/step - loss: 1.6793 - accuracy: 0.4245 - val_loss: 2.0750 - val_accuracy: 0.3010\n",
      "Epoch 16/20\n",
      "352/352 [==============================] - 1s 1ms/step - loss: 1.6864 - accuracy: 0.4185 - val_loss: 2.0596 - val_accuracy: 0.3214\n",
      "Epoch 17/20\n",
      "352/352 [==============================] - 0s 1ms/step - loss: 1.6751 - accuracy: 0.4268 - val_loss: 2.0223 - val_accuracy: 0.3088\n",
      "Epoch 18/20\n",
      "352/352 [==============================] - 0s 1ms/step - loss: 1.6745 - accuracy: 0.4257 - val_loss: 1.9838 - val_accuracy: 0.3178\n",
      "Epoch 19/20\n",
      "352/352 [==============================] - 1s 1ms/step - loss: 1.6650 - accuracy: 0.4296 - val_loss: 2.0230 - val_accuracy: 0.3212\n",
      "Epoch 20/20\n",
      "352/352 [==============================] - 0s 1ms/step - loss: 1.6668 - accuracy: 0.4265 - val_loss: 2.0551 - val_accuracy: 0.3076\n"
     ]
    },
    {
     "data": {
      "text/plain": [
       "<keras.callbacks.History at 0x7f9dbb33ee50>"
      ]
     },
     "execution_count": 45,
     "metadata": {},
     "output_type": "execute_result"
    }
   ],
   "source": [
    "model.compile(loss='categorical_crossentropy', optimizer=\"adam\", metrics=[\"accuracy\"])\n",
    "model.fit(x_train, y_train, batch_size=batch_size, epochs=epochs, validation_split=0.1)"
   ]
  },
  {
   "cell_type": "markdown",
   "id": "99d7b62e",
   "metadata": {},
   "source": [
    "## Frozen CNN + Linear NN "
   ]
  },
  {
   "cell_type": "code",
   "execution_count": 46,
   "id": "84bd0cc3",
   "metadata": {},
   "outputs": [],
   "source": [
    "model_2 = keras.Sequential([layers.Conv2D(32,kernel_size = (2,2),activation=\"relu\"),\n",
    "                           layers.Flatten(),\n",
    "                            layers.Dense(10,\"softmax\")\n",
    "                           ])\n",
    "for layer in model_2.layers:\n",
    "    layer.trainable = False\n",
    "model_2.layers[-1].trainable = True"
   ]
  },
  {
   "cell_type": "code",
   "execution_count": 47,
   "id": "388d17e9",
   "metadata": {
    "scrolled": true
   },
   "outputs": [
    {
     "name": "stdout",
     "output_type": "stream",
     "text": [
      "Epoch 1/20\n",
      "352/352 [==============================] - 8s 22ms/step - loss: 1.9329 - accuracy: 0.3412 - val_loss: 1.7941 - val_accuracy: 0.3850\n",
      "Epoch 2/20\n",
      "352/352 [==============================] - 8s 22ms/step - loss: 1.7062 - accuracy: 0.4106 - val_loss: 1.8348 - val_accuracy: 0.3798\n",
      "Epoch 3/20\n",
      "352/352 [==============================] - 8s 22ms/step - loss: 1.6052 - accuracy: 0.4469 - val_loss: 1.8198 - val_accuracy: 0.3762\n",
      "Epoch 4/20\n",
      "352/352 [==============================] - 8s 22ms/step - loss: 1.5407 - accuracy: 0.4706 - val_loss: 1.8471 - val_accuracy: 0.3770\n",
      "Epoch 5/20\n",
      "352/352 [==============================] - 8s 21ms/step - loss: 1.4639 - accuracy: 0.4938 - val_loss: 1.8859 - val_accuracy: 0.3784\n",
      "Epoch 6/20\n",
      "352/352 [==============================] - 8s 21ms/step - loss: 1.4241 - accuracy: 0.5087 - val_loss: 1.9309 - val_accuracy: 0.3548\n",
      "Epoch 7/20\n",
      "352/352 [==============================] - 7s 21ms/step - loss: 1.3654 - accuracy: 0.5312 - val_loss: 1.8764 - val_accuracy: 0.3774\n",
      "Epoch 8/20\n",
      "352/352 [==============================] - 7s 21ms/step - loss: 1.3491 - accuracy: 0.5332 - val_loss: 1.9019 - val_accuracy: 0.3800\n",
      "Epoch 9/20\n",
      "352/352 [==============================] - 7s 21ms/step - loss: 1.3117 - accuracy: 0.5492 - val_loss: 1.9814 - val_accuracy: 0.3728\n",
      "Epoch 10/20\n",
      "352/352 [==============================] - 7s 21ms/step - loss: 1.2724 - accuracy: 0.5643 - val_loss: 2.1005 - val_accuracy: 0.3476\n",
      "Epoch 11/20\n",
      "352/352 [==============================] - 7s 21ms/step - loss: 1.2568 - accuracy: 0.5693 - val_loss: 1.9524 - val_accuracy: 0.3676\n",
      "Epoch 12/20\n",
      "352/352 [==============================] - 8s 22ms/step - loss: 1.2148 - accuracy: 0.5809 - val_loss: 1.9949 - val_accuracy: 0.3706\n",
      "Epoch 13/20\n",
      "352/352 [==============================] - 8s 22ms/step - loss: 1.2059 - accuracy: 0.5869 - val_loss: 2.0969 - val_accuracy: 0.3592\n",
      "Epoch 14/20\n",
      "352/352 [==============================] - 8s 21ms/step - loss: 1.1663 - accuracy: 0.5968 - val_loss: 2.0435 - val_accuracy: 0.3700\n",
      "Epoch 15/20\n",
      "352/352 [==============================] - 8s 22ms/step - loss: 1.1503 - accuracy: 0.6046 - val_loss: 2.0581 - val_accuracy: 0.3668\n",
      "Epoch 16/20\n",
      "352/352 [==============================] - 9s 25ms/step - loss: 1.1458 - accuracy: 0.6073 - val_loss: 2.1100 - val_accuracy: 0.3740\n",
      "Epoch 17/20\n",
      "352/352 [==============================] - 11s 32ms/step - loss: 1.1076 - accuracy: 0.6206 - val_loss: 2.1000 - val_accuracy: 0.3596\n",
      "Epoch 18/20\n",
      "352/352 [==============================] - 16s 46ms/step - loss: 1.1146 - accuracy: 0.6171 - val_loss: 2.2474 - val_accuracy: 0.3552\n",
      "Epoch 19/20\n",
      "352/352 [==============================] - 15s 42ms/step - loss: 1.0890 - accuracy: 0.6274 - val_loss: 2.1456 - val_accuracy: 0.3544\n",
      "Epoch 20/20\n",
      "352/352 [==============================] - 11s 30ms/step - loss: 1.0755 - accuracy: 0.6314 - val_loss: 2.1464 - val_accuracy: 0.3622\n"
     ]
    },
    {
     "data": {
      "text/plain": [
       "<keras.callbacks.History at 0x7f9d69278690>"
      ]
     },
     "execution_count": 47,
     "metadata": {},
     "output_type": "execute_result"
    }
   ],
   "source": [
    "model_2.compile(loss='categorical_crossentropy', optimizer=\"adam\", metrics=[\"accuracy\"])\n",
    "\n",
    "model_2.fit(x_train, y_train, batch_size=batch_size, epochs=epochs, validation_split=0.1)"
   ]
  },
  {
   "cell_type": "markdown",
   "id": "e3b7ad21",
   "metadata": {},
   "source": [
    "### Frozen CNN + Frozen CNN + Linear NN"
   ]
  },
  {
   "cell_type": "code",
   "execution_count": 48,
   "id": "57f6d2a0",
   "metadata": {},
   "outputs": [],
   "source": [
    "model_3 = keras.Sequential([layers.Conv2D(32,kernel_size = (2,2),activation=\"relu\"),\n",
    "                            layers.Conv2D(32,kernel_size = (2,2),activation=\"relu\"),\n",
    "                           layers.Flatten(),\n",
    "                            layers.Dense(10,\"softmax\")\n",
    "                           ])\n",
    "for layer in model_3.layers:\n",
    "    layer.trainable = False\n",
    "model_3.layers[-1].trainable = True"
   ]
  },
  {
   "cell_type": "code",
   "execution_count": 49,
   "id": "98522ce0",
   "metadata": {
    "scrolled": true
   },
   "outputs": [
    {
     "name": "stdout",
     "output_type": "stream",
     "text": [
      "Epoch 1/20\n",
      "352/352 [==============================] - 17s 47ms/step - loss: 1.8760 - accuracy: 0.3397 - val_loss: 1.8243 - val_accuracy: 0.3714\n",
      "Epoch 2/20\n",
      "352/352 [==============================] - 17s 47ms/step - loss: 1.7300 - accuracy: 0.3975 - val_loss: 1.7430 - val_accuracy: 0.3872\n",
      "Epoch 3/20\n",
      "352/352 [==============================] - 17s 47ms/step - loss: 1.6533 - accuracy: 0.4280 - val_loss: 1.7202 - val_accuracy: 0.3982\n",
      "Epoch 4/20\n",
      "352/352 [==============================] - 17s 48ms/step - loss: 1.5997 - accuracy: 0.4432 - val_loss: 1.7159 - val_accuracy: 0.3958\n",
      "Epoch 5/20\n",
      "352/352 [==============================] - 21s 59ms/step - loss: 1.5568 - accuracy: 0.4599 - val_loss: 1.7351 - val_accuracy: 0.3882\n",
      "Epoch 6/20\n",
      "352/352 [==============================] - 21s 60ms/step - loss: 1.5224 - accuracy: 0.4747 - val_loss: 1.7541 - val_accuracy: 0.3910\n",
      "Epoch 7/20\n",
      "352/352 [==============================] - 20s 58ms/step - loss: 1.4948 - accuracy: 0.4833 - val_loss: 1.7282 - val_accuracy: 0.4048\n",
      "Epoch 8/20\n",
      "352/352 [==============================] - 20s 56ms/step - loss: 1.4659 - accuracy: 0.4945 - val_loss: 1.7247 - val_accuracy: 0.4006\n",
      "Epoch 9/20\n",
      "352/352 [==============================] - 19s 55ms/step - loss: 1.4390 - accuracy: 0.5051 - val_loss: 1.7266 - val_accuracy: 0.4072\n",
      "Epoch 10/20\n",
      "352/352 [==============================] - 19s 53ms/step - loss: 1.4171 - accuracy: 0.5135 - val_loss: 1.7481 - val_accuracy: 0.3964\n",
      "Epoch 11/20\n",
      "352/352 [==============================] - 20s 56ms/step - loss: 1.3924 - accuracy: 0.5216 - val_loss: 1.7854 - val_accuracy: 0.3928\n",
      "Epoch 12/20\n",
      "352/352 [==============================] - 20s 55ms/step - loss: 1.3739 - accuracy: 0.5300 - val_loss: 1.7274 - val_accuracy: 0.4046\n",
      "Epoch 13/20\n",
      "352/352 [==============================] - 18s 53ms/step - loss: 1.3546 - accuracy: 0.5370 - val_loss: 1.7785 - val_accuracy: 0.3936\n",
      "Epoch 14/20\n",
      "352/352 [==============================] - 18s 52ms/step - loss: 1.3389 - accuracy: 0.5417 - val_loss: 1.7149 - val_accuracy: 0.4098\n",
      "Epoch 15/20\n",
      "352/352 [==============================] - 19s 54ms/step - loss: 1.3208 - accuracy: 0.5510 - val_loss: 1.7739 - val_accuracy: 0.3932\n",
      "Epoch 16/20\n",
      "352/352 [==============================] - 20s 57ms/step - loss: 1.3093 - accuracy: 0.5527 - val_loss: 1.7630 - val_accuracy: 0.4012\n",
      "Epoch 17/20\n",
      "352/352 [==============================] - 20s 58ms/step - loss: 1.2837 - accuracy: 0.5643 - val_loss: 1.8198 - val_accuracy: 0.3832\n",
      "Epoch 18/20\n",
      "352/352 [==============================] - 20s 56ms/step - loss: 1.2766 - accuracy: 0.5660 - val_loss: 1.7461 - val_accuracy: 0.4086\n",
      "Epoch 19/20\n",
      "352/352 [==============================] - 19s 53ms/step - loss: 1.2601 - accuracy: 0.5725 - val_loss: 1.7761 - val_accuracy: 0.3898\n",
      "Epoch 20/20\n",
      "352/352 [==============================] - 18s 52ms/step - loss: 1.2540 - accuracy: 0.5740 - val_loss: 1.7880 - val_accuracy: 0.3926\n"
     ]
    },
    {
     "data": {
      "text/plain": [
       "<keras.callbacks.History at 0x7f9dbb8a0b10>"
      ]
     },
     "execution_count": 49,
     "metadata": {},
     "output_type": "execute_result"
    }
   ],
   "source": [
    "model_3.compile(loss='categorical_crossentropy', optimizer=\"adam\", metrics=[\"accuracy\"])\n",
    "\n",
    "model_3.fit(x_train, y_train, batch_size=batch_size, epochs=epochs, validation_split=0.1)"
   ]
  },
  {
   "cell_type": "code",
   "execution_count": null,
   "id": "8b69f61b",
   "metadata": {},
   "outputs": [],
   "source": []
  }
 ],
 "metadata": {
  "kernelspec": {
   "display_name": "Python 3",
   "language": "python",
   "name": "python3"
  },
  "language_info": {
   "codemirror_mode": {
    "name": "ipython",
    "version": 3
   },
   "file_extension": ".py",
   "mimetype": "text/x-python",
   "name": "python",
   "nbconvert_exporter": "python",
   "pygments_lexer": "ipython3",
   "version": "3.7.4"
  }
 },
 "nbformat": 4,
 "nbformat_minor": 5
}
